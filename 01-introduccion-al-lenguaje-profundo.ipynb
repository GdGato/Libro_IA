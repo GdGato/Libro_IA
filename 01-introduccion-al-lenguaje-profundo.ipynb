{
 "cells": [
  {
   "cell_type": "markdown",
   "id": "eec46ead",
   "metadata": {
    "papermill": {
     "duration": 0.003814,
     "end_time": "2023-11-20T00:36:41.460783",
     "exception": false,
     "start_time": "2023-11-20T00:36:41.456969",
     "status": "completed"
    },
    "tags": []
   },
   "source": [
    "Tu Viaje en el Aprendizaje Profundo\n",
    "---------------------------------------------"
   ]
  },
  {
   "cell_type": "markdown",
   "id": "5a9f277d",
   "metadata": {
    "papermill": {
     "duration": 0.004879,
     "end_time": "2023-11-20T00:36:41.469171",
     "exception": false,
     "start_time": "2023-11-20T00:36:41.464292",
     "status": "completed"
    },
    "tags": []
   },
   "source": [
    "¡Hola y gracias por permitirnos acompañarte en tu viaje en el aprendizaje profundo, sin importar en qué punto te encuentres! En este capítulo, te contaremos un poco más sobre qué esperar en este libro, presentaremos los conceptos clave detrás del aprendizaje profundo y entrenaremos nuestros primeros modelos en diferentes tareas. No importa si no tienes experiencia técnica o matemática (¡aunque está bien si la tienes!); escribimos este libro para hacer que el aprendizaje profundo sea accesible para tantas personas como sea posible."
   ]
  },
  {
   "cell_type": "markdown",
   "id": "2d184837",
   "metadata": {
    "papermill": {
     "duration": 0.004278,
     "end_time": "2023-11-20T00:36:41.477092",
     "exception": false,
     "start_time": "2023-11-20T00:36:41.472814",
     "status": "completed"
    },
    "tags": []
   },
   "source": [
    "![imagen que representa la accesibilidad del aprendizaje profundo](Imagenes/create-an-image-representing-the-accessibility-of-deep-learning-you-can-include-diverse-individuals-832223687.png)"
   ]
  },
  {
   "cell_type": "markdown",
   "id": "2b8ec678",
   "metadata": {
    "papermill": {
     "duration": 0.002993,
     "end_time": "2023-11-20T00:36:41.483507",
     "exception": false,
     "start_time": "2023-11-20T00:36:41.480514",
     "status": "completed"
    },
    "tags": []
   },
   "source": [
    "El Aprendizaje Profundo es para Todos\n",
    "---------------------------------------\n"
   ]
  },
  {
   "cell_type": "markdown",
   "id": "843fe197",
   "metadata": {
    "papermill": {
     "duration": 0.00301,
     "end_time": "2023-11-20T00:36:41.489810",
     "exception": false,
     "start_time": "2023-11-20T00:36:41.486800",
     "status": "completed"
    },
    "tags": []
   },
   "source": [
    "Muchas personas asumen que necesitas todo tipo de cosas difíciles de encontrar para obtener excelentes resultados con el aprendizaje profundo, pero como verás en este libro, esas personas están equivocadas. A continuación, se presenta una lista de algunas cosas que definitivamente no necesitas para hacer aprendizaje profundo de clase mundial:"
   ]
  },
  {
   "cell_type": "markdown",
   "id": "8436ebfb",
   "metadata": {
    "papermill": {
     "duration": 0.003084,
     "end_time": "2023-11-20T00:36:41.496334",
     "exception": false,
     "start_time": "2023-11-20T00:36:41.493250",
     "status": "completed"
    },
    "tags": []
   },
   "source": [
    "| Mito (no necesitas) | Verdad                                   |\n",
    "|----------------------|------------------------------------------|\n",
    "| Mucha matemática     | Solo necesitas matemáticas de secundaria |\n",
    "| Muchos datos          | Hemos obtenido resultados sorprendentes con menos de 50 elementos de datos |\n",
    "| Computadoras costosas | Puedes obtener lo que necesitas para trabajos de última generación de forma gratuita |\n"
   ]
  },
  {
   "cell_type": "markdown",
   "id": "4595799f",
   "metadata": {
    "papermill": {
     "duration": 0.002996,
     "end_time": "2023-11-20T00:36:41.502584",
     "exception": false,
     "start_time": "2023-11-20T00:36:41.499588",
     "status": "completed"
    },
    "tags": []
   },
   "source": [
    "El aprendizaje profundo es una técnica informática para extraer y transformar datos, con casos de uso que van desde el reconocimiento del habla humana hasta la clasificación de imágenes de animales, utilizando múltiples capas de redes neuronales. Cada una de estas capas toma sus entradas de capas anteriores y las perfecciona progresivamente. Las capas son entrenadas por algoritmos que minimizan sus errores y mejoran su precisión. De esta manera, la red aprende a realizar una tarea especificada. Discutiremos los algoritmos de entrenamiento en detalle en la próxima sección.\n",
    "\n",
    "El aprendizaje profundo tiene poder, flexibilidad y simplicidad. Es por eso que creemos que debería aplicarse en muchas disciplinas. Estas incluyen las ciencias sociales y físicas, las artes, la medicina, las finanzas, la investigación científica y muchas más. Para dar un ejemplo personal, a pesar de no tener antecedentes en medicina, Jeremy fundó Enlitic, una empresa que utiliza algoritmos de aprendizaje profundo para diagnosticar enfermedades. Meses después de comenzar la empresa, se anunció que su algoritmo podía identificar tumores malignos de manera más precisa que los radiólogos.\n",
    "\n",
    "Aquí hay una lista de algunas de las miles de tareas en diferentes áreas en las que el aprendizaje profundo, o los métodos que utilizan en gran medida el aprendizaje profundo, son ahora los mejores del mundo:"
   ]
  },
  {
   "cell_type": "markdown",
   "id": "9f9eaeb8",
   "metadata": {
    "papermill": {
     "duration": 0.002979,
     "end_time": "2023-11-20T00:36:41.508833",
     "exception": false,
     "start_time": "2023-11-20T00:36:41.505854",
     "status": "completed"
    },
    "tags": []
   },
   "source": [
    "* Procesamiento del lenguaje natural (PLN): responder preguntas; reconocimiento del habla; resumir documentos; clasificar documentos; encontrar nombres, fechas, etc. en documentos; buscar artículos que mencionen un concepto.\n",
    "\n",
    "* Visión por computadora: interpretación de imágenes de satélites y drones (por ejemplo, para la resiliencia ante desastres); reconocimiento facial; descripción de imágenes; lectura de señales de tráfico; localización de peatones y vehículos en vehículos autónomos.\n",
    "\n",
    "* Medicina: encontrar anomalías en imágenes de radiología, incluidas imágenes de TC, resonancia magnética y rayos X; contar características en cortes de patología; medir características en ecografías; diagnosticar retinopatía diabética.\n",
    "\n",
    "* Biología: plegado de proteínas; clasificación de proteínas; muchas tareas de genómica, como la secuenciación tumor-normal y la clasificación de mutaciones genéticas clínicamente relevantes; clasificación celular; análisis de interacciones proteína/proteína.\n",
    "\n",
    "* Generación de imágenes: dar color a imágenes; aumentar la resolución de imágenes; eliminar ruido de imágenes; convertir imágenes en arte en el estilo de artistas famosos.\n",
    "\n",
    "* Sistemas de recomendación: búsqueda en la web; recomendaciones de productos; diseño de la página de inicio.\n",
    "\n",
    "* Juegos: ajedrez, go, la mayoría de los videojuegos de Atari y muchos juegos de estrategia en tiempo real.\n",
    "\n",
    "* Robótica: manipulación de objetos difíciles de localizar (por ejemplo, transparentes, brillantes, sin textura) o difíciles de recoger.\n",
    "\n",
    "* Otras aplicaciones: pronósticos financieros y logísticos, texto a voz y mucho más..."
   ]
  },
  {
   "cell_type": "markdown",
   "id": "df4afc8d",
   "metadata": {
    "papermill": {
     "duration": 0.002992,
     "end_time": "2023-11-20T00:36:41.515059",
     "exception": false,
     "start_time": "2023-11-20T00:36:41.512067",
     "status": "completed"
    },
    "tags": []
   },
   "source": [
    "![Imagen representativa de aprendizaje profundo](Imagenes/create-an-image-representing-the-versatility-of-deep-learning-applications-across-different-domains-421398253.png)"
   ]
  },
  {
   "cell_type": "markdown",
   "id": "6d0800f2",
   "metadata": {
    "papermill": {
     "duration": 0.002976,
     "end_time": "2023-11-20T00:36:41.521350",
     "exception": false,
     "start_time": "2023-11-20T00:36:41.518374",
     "status": "completed"
    },
    "tags": []
   },
   "source": [
    "Lo sorprendente es que el aprendizaje profundo tiene aplicaciones tan variadas, y casi todo el aprendizaje profundo se basa en un solo tipo de modelo: la red neuronal.\n",
    "\n",
    "Sin embargo, las redes neuronales no son completamente nuevas. Para obtener una perspectiva más amplia sobre el campo, vale la pena comenzar con un poco de historia."
   ]
  }
 ],
 "metadata": {
  "kaggle": {
   "accelerator": "none",
   "dataSources": [],
   "dockerImageVersionId": 30587,
   "isGpuEnabled": false,
   "isInternetEnabled": true,
   "language": "python",
   "sourceType": "notebook"
  },
  "kernelspec": {
   "display_name": "Python 3",
   "language": "python",
   "name": "python3"
  },
  "language_info": {
   "codemirror_mode": {
    "name": "ipython",
    "version": 3
   },
   "file_extension": ".py",
   "mimetype": "text/x-python",
   "name": "python",
   "nbconvert_exporter": "python",
   "pygments_lexer": "ipython3",
   "version": "3.10.12"
  },
  "papermill": {
   "default_parameters": {},
   "duration": 4.007152,
   "end_time": "2023-11-20T00:36:41.944453",
   "environment_variables": {},
   "exception": null,
   "input_path": "__notebook__.ipynb",
   "output_path": "__notebook__.ipynb",
   "parameters": {},
   "start_time": "2023-11-20T00:36:37.937301",
   "version": "2.4.0"
  }
 },
 "nbformat": 4,
 "nbformat_minor": 5
}
